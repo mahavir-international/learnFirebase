{
 "cells": [
  {
   "cell_type": "markdown",
   "metadata": {},
   "source": [
    "# Python with Firebase \n",
    "- https://medium.com/faun/getting-started-with-firebase-cloud-firestore-using-python-c6ab3f5ecae0\n",
    "- https://towardsdatascience.com/nosql-on-the-cloud-with-python-55a1383752fc for firestore\n"
   ]
  },
  {
   "cell_type": "code",
   "execution_count": 1,
   "metadata": {
    "scrolled": false
   },
   "outputs": [],
   "source": [
    "# dependencies\n",
    "# !pip install firebase-admin"
   ]
  },
  {
   "cell_type": "code",
   "execution_count": 2,
   "metadata": {},
   "outputs": [
    {
     "data": {
      "text/plain": [
       "<firebase_admin.App at 0x7fa948288a58>"
      ]
     },
     "execution_count": 2,
     "metadata": {},
     "output_type": "execute_result"
    }
   ],
   "source": [
    "import firebase_admin\n",
    "from firebase_admin import credentials,firestore\n",
    "cred = credentials.Certificate(\"serviceAccountKey.json\")\n",
    "firebase_admin.initialize_app(cred)\n",
    "firestore_db = firestore.client() # mamke complete connection"
   ]
  },
  {
   "cell_type": "code",
   "execution_count": 6,
   "metadata": {},
   "outputs": [],
   "source": [
    "col1 = firestore_db.collection('course') # Tree Structure\n",
    " \n",
    "doc1 = col1.document(\"English\")\n",
    "doc2 = col1.document(\"Hindi\")\n",
    "\n",
    "doc1.set({'teacher':'nazia','phon':3243}) # Set the Data of In firebase\n",
    "doc2.set({'teacher':'Hemlata','phon':243324})\n",
    "doc2.update({'dummy':'haah'}) # update data add new key value pair\n",
    "doc2.update({'dummy':firestore.ArrayUnion([\"marks\"])}) # similarly ArrayRemove\n",
    "\n",
    "# doc1.delete() # delete the node\n",
    "\n",
    "# collection.document('barcelona').update({'weather': firestore.DELETE_FIELD})\n",
    "# delete Single Field\n",
    "\n",
    "col1.where('class','>',4).get()"
   ]
  },
  {
   "cell_type": "code",
   "execution_count": 38,
   "metadata": {},
   "outputs": [],
   "source": [
    "v = firestore_db.collection('studentInfo').document('MIS001').collection('name').stream()"
   ]
  },
  {
   "cell_type": "code",
   "execution_count": 43,
   "metadata": {},
   "outputs": [
    {
     "ename": "AttributeError",
     "evalue": "'generator' object has no attribute 'iter'",
     "output_type": "error",
     "traceback": [
      "\u001b[0;31m---------------------------------------------------------------------------\u001b[0m",
      "\u001b[0;31mAttributeError\u001b[0m                            Traceback (most recent call last)",
      "\u001b[0;32m<ipython-input-43-d60ab9ca7c07>\u001b[0m in \u001b[0;36m<module>\u001b[0;34m\u001b[0m\n\u001b[0;32m----> 1\u001b[0;31m \u001b[0mprint\u001b[0m\u001b[0;34m(\u001b[0m\u001b[0mv\u001b[0m\u001b[0;34m.\u001b[0m\u001b[0miter\u001b[0m\u001b[0;34m)\u001b[0m\u001b[0;34m\u001b[0m\u001b[0m\n\u001b[0m",
      "\u001b[0;31mAttributeError\u001b[0m: 'generator' object has no attribute 'iter'"
     ]
    }
   ],
   "source": [
    "print(v.iter)"
   ]
  },
  {
   "cell_type": "code",
   "execution_count": null,
   "metadata": {},
   "outputs": [],
   "source": [
    "firestore_db.collection('course').add({'song': 'Imagine', 'artist': 'John Lennon'})"
   ]
  }
 ],
 "metadata": {
  "kernelspec": {
   "display_name": "Python 3",
   "language": "python",
   "name": "python3"
  },
  "language_info": {
   "codemirror_mode": {
    "name": "ipython",
    "version": 3
   },
   "file_extension": ".py",
   "mimetype": "text/x-python",
   "name": "python",
   "nbconvert_exporter": "python",
   "pygments_lexer": "ipython3",
   "version": "3.7.0"
  }
 },
 "nbformat": 4,
 "nbformat_minor": 4
}
