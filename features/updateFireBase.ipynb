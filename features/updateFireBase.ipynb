{
 "cells": [
  {
   "cell_type": "markdown",
   "metadata": {},
   "source": [
    "# Python with Firebase \n",
    "- https://medium.com/faun/getting-started-with-firebase-cloud-firestore-using-python-c6ab3f5ecae0\n",
    "- https://towardsdatascience.com/nosql-on-the-cloud-with-python-55a1383752fc for firestore\n"
   ]
  },
  {
   "cell_type": "code",
   "execution_count": 1,
   "metadata": {
    "scrolled": false
   },
   "outputs": [],
   "source": [
    "# dependencies\n",
    "# !pip install firebase-admin"
   ]
  },
  {
   "cell_type": "code",
   "execution_count": 2,
   "metadata": {},
   "outputs": [],
   "source": [
    "import firebase_admin\n",
    "import dateutil\n",
    "from datetime import datetime as dt\n",
    "\n",
    "from firebase_admin import credentials,firestore\n",
    "cred = credentials.Certificate(\"serviceAccountKey.json\")\n",
    "firebase_admin.initialize_app(cred)\n",
    "firestore_db = firestore.client() # mamke complete connection"
   ]
  },
  {
   "cell_type": "code",
   "execution_count": 3,
   "metadata": {},
   "outputs": [],
   "source": [
    "import pandas as pd\n",
    "import os"
   ]
  },
  {
   "cell_type": "code",
   "execution_count": 98,
   "metadata": {},
   "outputs": [],
   "source": [
    "# Load Document\n",
    "\n",
    "## load Student Info\n",
    "df = pd.read_csv(\"../src/assets/studentInfo.csv\",header='infer')\n",
    "dfSubjectCode = pd.read_csv(\"../src/assets/subjectCode.csv\",header='infer')"
   ]
  },
  {
   "cell_type": "code",
   "execution_count": 99,
   "metadata": {},
   "outputs": [],
   "source": [
    "df.columns = ['name', 'middleName', 'fatherName', 'sex', 'cast', 'handicap', 'SUB1', 'SUB2',\n",
    "       'MED2', 'SUB3', 'MED3', 'SUB4', 'MED4', 'SUB5', 'MED5', 'SUB6', 'MED6',\n",
    "       'SUB7', 'MED7', 'DOB', 'ANNUAL_INC', 'ONLY_CHILD', 'ADM_SRL',\n",
    "       'ADM_DATE', 'MINORITY', 'AADHAR']"
   ]
  },
  {
   "cell_type": "code",
   "execution_count": 100,
   "metadata": {},
   "outputs": [],
   "source": [
    "# preprocess dataframe\n",
    "df = df.fillna('null')\n",
    "df['DOB'] = [dt.strptime(fixDate(x),\"%d%m%Y\") for x in df['DOB']]\n",
    "df['ADM_DATE'] = [dt.strptime(fixDate(x),\"%d%m%Y\") for x in df['ADM_DATE']]"
   ]
  },
  {
   "cell_type": "code",
   "execution_count": 91,
   "metadata": {},
   "outputs": [],
   "source": [
    "# important Funcitons\n",
    "def parseDic(a):\n",
    "    for i in a:\n",
    "        if str(a[i]).isnumeric():\n",
    "            a[i] = int(a[i])\n",
    "    return a\n",
    "\n",
    "def fixDate(s):\n",
    "    s = str(s)\n",
    "    if len(s) < 8:\n",
    "        return \"0\"+s\n",
    "    return s"
   ]
  },
  {
   "cell_type": "code",
   "execution_count": 93,
   "metadata": {
    "scrolled": true
   },
   "outputs": [],
   "source": [
    "# Push data in firestore\n",
    "col = df.columns\n",
    "fb = firestore_db.collection('studentInfo')\n",
    "for i in range(len(df)):\n",
    "    d = df.iloc[i]\n",
    "    admnNo = d[\"ADM_SRL\"]\n",
    "    dic = { str(z):d[z] for z in col if z != \"ADM_SRL\"}\n",
    "    dic = parseDic(dic)\n",
    "    fb.document(str(admnNo)).set(dic)\n",
    "    "
   ]
  },
  {
   "cell_type": "code",
   "execution_count": 101,
   "metadata": {
    "scrolled": true
   },
   "outputs": [
    {
     "data": {
      "text/html": [
       "<div>\n",
       "<style scoped>\n",
       "    .dataframe tbody tr th:only-of-type {\n",
       "        vertical-align: middle;\n",
       "    }\n",
       "\n",
       "    .dataframe tbody tr th {\n",
       "        vertical-align: top;\n",
       "    }\n",
       "\n",
       "    .dataframe thead th {\n",
       "        text-align: right;\n",
       "    }\n",
       "</style>\n",
       "<table border=\"1\" class=\"dataframe\">\n",
       "  <thead>\n",
       "    <tr style=\"text-align: right;\">\n",
       "      <th></th>\n",
       "      <th>code</th>\n",
       "      <th>subjectName</th>\n",
       "    </tr>\n",
       "  </thead>\n",
       "  <tbody>\n",
       "    <tr>\n",
       "      <th>0</th>\n",
       "      <td>2</td>\n",
       "      <td>HINDI COURSE-A</td>\n",
       "    </tr>\n",
       "    <tr>\n",
       "      <th>1</th>\n",
       "      <td>3</td>\n",
       "      <td>URDU COURSE-A</td>\n",
       "    </tr>\n",
       "    <tr>\n",
       "      <th>2</th>\n",
       "      <td>4</td>\n",
       "      <td>PUNJABI</td>\n",
       "    </tr>\n",
       "    <tr>\n",
       "      <th>3</th>\n",
       "      <td>5</td>\n",
       "      <td>BENGALI</td>\n",
       "    </tr>\n",
       "    <tr>\n",
       "      <th>4</th>\n",
       "      <td>6</td>\n",
       "      <td>TAMIL</td>\n",
       "    </tr>\n",
       "  </tbody>\n",
       "</table>\n",
       "</div>"
      ],
      "text/plain": [
       "   code     subjectName\n",
       "0     2  HINDI COURSE-A\n",
       "1     3   URDU COURSE-A\n",
       "2     4         PUNJABI\n",
       "3     5         BENGALI\n",
       "4     6           TAMIL"
      ]
     },
     "execution_count": 101,
     "metadata": {},
     "output_type": "execute_result"
    }
   ],
   "source": [
    "dfSubjectCode.head()"
   ]
  },
  {
   "cell_type": "code",
   "execution_count": 104,
   "metadata": {},
   "outputs": [],
   "source": [
    "# Push data in firestore\n",
    "\n",
    "def parseCode(a):\n",
    "    l = 3\n",
    "    an = len(a)\n",
    "    return '0'*(l-an)+a\n",
    "\n",
    "fb = firestore_db.collection('subjectCode')\n",
    "for i in range(len(dfSubjectCode)):\n",
    "    d = dfSubjectCode.iloc[i]\n",
    "    primaryKey = d[\"code\"]\n",
    "    fb.document(parseCode(str(primaryKey))).set({'name':d[\"subjectName\"]})\n",
    "    "
   ]
  },
  {
   "cell_type": "code",
   "execution_count": null,
   "metadata": {},
   "outputs": [],
   "source": []
  },
  {
   "cell_type": "code",
   "execution_count": 6,
   "metadata": {},
   "outputs": [],
   "source": [
    "col1 = firestore_db.collection('course') # Tree Structure\n",
    " \n",
    "doc1 = col1.document(\"English\")\n",
    "doc2 = col1.document(\"Hindi\")\n",
    "\n",
    "doc1.set({'teacher':'nazia','phon':3243}) # Set the Data of In firebase\n",
    "doc2.set({'teacher':'Hemlata','phon':243324})\n",
    "doc2.update({'dummy':'haah'}) # update data add new key value pair\n",
    "doc2.update({'dummy':firestore.ArrayUnion([\"marks\"])}) # similarly ArrayRemove\n",
    "\n",
    "# doc1.delete() # delete the node\n",
    "\n",
    "# collection.document('barcelona').update({'weather': firestore.DELETE_FIELD})\n",
    "# delete Single Field\n",
    "\n",
    "col1.where('class','>',4).get()"
   ]
  },
  {
   "cell_type": "code",
   "execution_count": 38,
   "metadata": {},
   "outputs": [],
   "source": [
    "v = firestore_db.collection('studentInfo').document('MIS001').collection('name').stream()"
   ]
  },
  {
   "cell_type": "code",
   "execution_count": 43,
   "metadata": {},
   "outputs": [
    {
     "ename": "AttributeError",
     "evalue": "'generator' object has no attribute 'iter'",
     "output_type": "error",
     "traceback": [
      "\u001b[0;31m---------------------------------------------------------------------------\u001b[0m",
      "\u001b[0;31mAttributeError\u001b[0m                            Traceback (most recent call last)",
      "\u001b[0;32m<ipython-input-43-d60ab9ca7c07>\u001b[0m in \u001b[0;36m<module>\u001b[0;34m\u001b[0m\n\u001b[0;32m----> 1\u001b[0;31m \u001b[0mprint\u001b[0m\u001b[0;34m(\u001b[0m\u001b[0mv\u001b[0m\u001b[0;34m.\u001b[0m\u001b[0miter\u001b[0m\u001b[0;34m)\u001b[0m\u001b[0;34m\u001b[0m\u001b[0m\n\u001b[0m",
      "\u001b[0;31mAttributeError\u001b[0m: 'generator' object has no attribute 'iter'"
     ]
    }
   ],
   "source": [
    "print(v.iter)"
   ]
  },
  {
   "cell_type": "code",
   "execution_count": null,
   "metadata": {},
   "outputs": [],
   "source": [
    "firestore_db.collection('course').add({'song': 'Imagine', 'artist': 'John Lennon'})"
   ]
  }
 ],
 "metadata": {
  "kernelspec": {
   "display_name": "Python 3",
   "language": "python",
   "name": "python3"
  },
  "language_info": {
   "codemirror_mode": {
    "name": "ipython",
    "version": 3
   },
   "file_extension": ".py",
   "mimetype": "text/x-python",
   "name": "python",
   "nbconvert_exporter": "python",
   "pygments_lexer": "ipython3",
   "version": "3.7.0"
  }
 },
 "nbformat": 4,
 "nbformat_minor": 4
}
